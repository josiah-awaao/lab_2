{
 "cells": [
  {
   "cell_type": "markdown",
   "id": "5eca16fa-5dc4-40bb-b29c-cf173a138189",
   "metadata": {},
   "source": [
    "## Josiah V. Awa-ao\n",
    "## 300387622"
   ]
  },
  {
   "cell_type": "code",
   "execution_count": 5,
   "id": "22e7fc58-86ef-4f94-a02c-a0ef1001c19d",
   "metadata": {},
   "outputs": [],
   "source": [
    "import pandas as pd"
   ]
  },
  {
   "cell_type": "code",
   "execution_count": 9,
   "id": "7b7cc87d-2df3-4cd6-bdac-e76401922fdb",
   "metadata": {},
   "outputs": [
    {
     "data": {
      "text/html": [
       "<div>\n",
       "<style scoped>\n",
       "    .dataframe tbody tr th:only-of-type {\n",
       "        vertical-align: middle;\n",
       "    }\n",
       "\n",
       "    .dataframe tbody tr th {\n",
       "        vertical-align: top;\n",
       "    }\n",
       "\n",
       "    .dataframe thead th {\n",
       "        text-align: right;\n",
       "    }\n",
       "</style>\n",
       "<table border=\"1\" class=\"dataframe\">\n",
       "  <thead>\n",
       "    <tr style=\"text-align: right;\">\n",
       "      <th></th>\n",
       "      <th>year</th>\n",
       "      <th>transmission</th>\n",
       "      <th>mileage</th>\n",
       "      <th>fuel_type</th>\n",
       "      <th>tax</th>\n",
       "      <th>price</th>\n",
       "      <th>mpg</th>\n",
       "      <th>engine_size</th>\n",
       "      <th>make</th>\n",
       "      <th>model</th>\n",
       "    </tr>\n",
       "  </thead>\n",
       "  <tbody>\n",
       "    <tr>\n",
       "      <th>0</th>\n",
       "      <td>2019.0</td>\n",
       "      <td>manual</td>\n",
       "      <td>12051.000000</td>\n",
       "      <td>petrol</td>\n",
       "      <td>145.0</td>\n",
       "      <td>12998.0</td>\n",
       "      <td>39.2</td>\n",
       "      <td>1.4</td>\n",
       "      <td>vauxhall</td>\n",
       "      <td>_mokka_x</td>\n",
       "    </tr>\n",
       "    <tr>\n",
       "      <th>1</th>\n",
       "      <td>2017.0</td>\n",
       "      <td>manual</td>\n",
       "      <td>14942.000000</td>\n",
       "      <td>petrol</td>\n",
       "      <td>200.0</td>\n",
       "      <td>10340.0</td>\n",
       "      <td>42.2</td>\n",
       "      <td>1.6</td>\n",
       "      <td>vauxhall</td>\n",
       "      <td>_mokka_x</td>\n",
       "    </tr>\n",
       "    <tr>\n",
       "      <th>2</th>\n",
       "      <td>2017.0</td>\n",
       "      <td>automatic</td>\n",
       "      <td>52045.000000</td>\n",
       "      <td>diesel</td>\n",
       "      <td>20.0</td>\n",
       "      <td>13640.0</td>\n",
       "      <td>67.3</td>\n",
       "      <td>2.1</td>\n",
       "      <td>merc</td>\n",
       "      <td>_b_class</td>\n",
       "    </tr>\n",
       "    <tr>\n",
       "      <th>3</th>\n",
       "      <td>2016.0</td>\n",
       "      <td>manual</td>\n",
       "      <td>22797.000000</td>\n",
       "      <td>petrol</td>\n",
       "      <td>20.0</td>\n",
       "      <td>7999.0</td>\n",
       "      <td>64.2</td>\n",
       "      <td>1.0</td>\n",
       "      <td>volkswagen</td>\n",
       "      <td>_up</td>\n",
       "    </tr>\n",
       "    <tr>\n",
       "      <th>4</th>\n",
       "      <td>2020.0</td>\n",
       "      <td>semi_auto</td>\n",
       "      <td>1538.844002</td>\n",
       "      <td>diesel</td>\n",
       "      <td>145.0</td>\n",
       "      <td>26990.0</td>\n",
       "      <td>65.7</td>\n",
       "      <td>2.0</td>\n",
       "      <td>bmw</td>\n",
       "      <td>_4_series</td>\n",
       "    </tr>\n",
       "  </tbody>\n",
       "</table>\n",
       "</div>"
      ],
      "text/plain": [
       "     year transmission       mileage fuel_type    tax    price   mpg  \\\n",
       "0  2019.0       manual  12051.000000    petrol  145.0  12998.0  39.2   \n",
       "1  2017.0       manual  14942.000000    petrol  200.0  10340.0  42.2   \n",
       "2  2017.0    automatic  52045.000000    diesel   20.0  13640.0  67.3   \n",
       "3  2016.0       manual  22797.000000    petrol   20.0   7999.0  64.2   \n",
       "4  2020.0    semi_auto   1538.844002    diesel  145.0  26990.0  65.7   \n",
       "\n",
       "   engine_size        make      model  \n",
       "0          1.4    vauxhall   _mokka_x  \n",
       "1          1.6    vauxhall   _mokka_x  \n",
       "2          2.1        merc   _b_class  \n",
       "3          1.0  volkswagen        _up  \n",
       "4          2.0         bmw  _4_series  "
      ]
     },
     "execution_count": 9,
     "metadata": {},
     "output_type": "execute_result"
    }
   ],
   "source": [
    "df = pd.read_csv('Lab1_cleaned_JAw622.csv')\n",
    "df.head()"
   ]
  },
  {
   "cell_type": "code",
   "execution_count": 22,
   "id": "9be0f7ae-a232-416f-8ab4-b110b7534598",
   "metadata": {},
   "outputs": [
    {
     "name": "stdout",
     "output_type": "stream",
     "text": [
      "year            float64\n",
      "transmission     object\n",
      "mileage         float64\n",
      "fuel_type        object\n",
      "tax             float64\n",
      "price           float64\n",
      "mpg             float64\n",
      "engine_size     float64\n",
      "make             object\n",
      "model            object\n",
      "dtype: object\n"
     ]
    }
   ],
   "source": [
    "# display column information\n",
    "print(df.dtypes)"
   ]
  },
  {
   "cell_type": "code",
   "execution_count": 16,
   "id": "2e2b2c61-83ff-4555-91ea-26bcbfd758cd",
   "metadata": {},
   "outputs": [
    {
     "name": "stdout",
     "output_type": "stream",
     "text": [
      "<class 'pandas.core.frame.DataFrame'>\n",
      "RangeIndex: 69544 entries, 0 to 69543\n",
      "Data columns (total 10 columns):\n",
      " #   Column        Non-Null Count  Dtype  \n",
      "---  ------        --------------  -----  \n",
      " 0   year          69544 non-null  float64\n",
      " 1   transmission  69544 non-null  object \n",
      " 2   mileage       69544 non-null  float64\n",
      " 3   fuel_type     69544 non-null  object \n",
      " 4   tax           69544 non-null  float64\n",
      " 5   price         69544 non-null  float64\n",
      " 6   mpg           69544 non-null  float64\n",
      " 7   engine_size   69544 non-null  float64\n",
      " 8   make          69544 non-null  object \n",
      " 9   model         68609 non-null  object \n",
      "dtypes: float64(6), object(4)\n",
      "memory usage: 5.3+ MB\n"
     ]
    }
   ],
   "source": [
    "# display summary of data types\n",
    "df.info()"
   ]
  },
  {
   "cell_type": "code",
   "execution_count": 29,
   "id": "77e75196-ec18-4aa6-84d8-4ba89345898e",
   "metadata": {},
   "outputs": [
    {
     "data": {
      "text/html": [
       "<div>\n",
       "<style scoped>\n",
       "    .dataframe tbody tr th:only-of-type {\n",
       "        vertical-align: middle;\n",
       "    }\n",
       "\n",
       "    .dataframe tbody tr th {\n",
       "        vertical-align: top;\n",
       "    }\n",
       "\n",
       "    .dataframe thead th {\n",
       "        text-align: right;\n",
       "    }\n",
       "</style>\n",
       "<table border=\"1\" class=\"dataframe\">\n",
       "  <thead>\n",
       "    <tr style=\"text-align: right;\">\n",
       "      <th></th>\n",
       "      <th>year</th>\n",
       "      <th>mileage</th>\n",
       "      <th>tax</th>\n",
       "      <th>price</th>\n",
       "      <th>mpg</th>\n",
       "      <th>engine_size</th>\n",
       "    </tr>\n",
       "  </thead>\n",
       "  <tbody>\n",
       "    <tr>\n",
       "      <th>count</th>\n",
       "      <td>69544.000000</td>\n",
       "      <td>69544.000000</td>\n",
       "      <td>69544.000000</td>\n",
       "      <td>69544.000000</td>\n",
       "      <td>69544.000000</td>\n",
       "      <td>69544.000000</td>\n",
       "    </tr>\n",
       "    <tr>\n",
       "      <th>mean</th>\n",
       "      <td>2017.057287</td>\n",
       "      <td>23440.985431</td>\n",
       "      <td>119.994248</td>\n",
       "      <td>17252.313097</td>\n",
       "      <td>54.825492</td>\n",
       "      <td>1.694596</td>\n",
       "    </tr>\n",
       "    <tr>\n",
       "      <th>std</th>\n",
       "      <td>2.138476</td>\n",
       "      <td>21320.457315</td>\n",
       "      <td>64.443977</td>\n",
       "      <td>10121.326910</td>\n",
       "      <td>16.449080</td>\n",
       "      <td>0.569404</td>\n",
       "    </tr>\n",
       "    <tr>\n",
       "      <th>min</th>\n",
       "      <td>1970.000000</td>\n",
       "      <td>1.000000</td>\n",
       "      <td>0.000000</td>\n",
       "      <td>450.000000</td>\n",
       "      <td>0.300000</td>\n",
       "      <td>0.000000</td>\n",
       "    </tr>\n",
       "    <tr>\n",
       "      <th>1%</th>\n",
       "      <td>2010.000000</td>\n",
       "      <td>11.000000</td>\n",
       "      <td>0.000000</td>\n",
       "      <td>3995.000000</td>\n",
       "      <td>29.700000</td>\n",
       "      <td>1.000000</td>\n",
       "    </tr>\n",
       "    <tr>\n",
       "      <th>25%</th>\n",
       "      <td>2016.000000</td>\n",
       "      <td>7761.750000</td>\n",
       "      <td>125.000000</td>\n",
       "      <td>10390.000000</td>\n",
       "      <td>46.300000</td>\n",
       "      <td>1.400000</td>\n",
       "    </tr>\n",
       "    <tr>\n",
       "      <th>50%</th>\n",
       "      <td>2017.000000</td>\n",
       "      <td>17890.000000</td>\n",
       "      <td>145.000000</td>\n",
       "      <td>14990.000000</td>\n",
       "      <td>54.300000</td>\n",
       "      <td>1.600000</td>\n",
       "    </tr>\n",
       "    <tr>\n",
       "      <th>75%</th>\n",
       "      <td>2019.000000</td>\n",
       "      <td>32793.250000</td>\n",
       "      <td>145.000000</td>\n",
       "      <td>21450.000000</td>\n",
       "      <td>62.725000</td>\n",
       "      <td>2.000000</td>\n",
       "    </tr>\n",
       "    <tr>\n",
       "      <th>99%</th>\n",
       "      <td>2020.000000</td>\n",
       "      <td>97000.000000</td>\n",
       "      <td>270.000000</td>\n",
       "      <td>53773.940000</td>\n",
       "      <td>85.600000</td>\n",
       "      <td>3.000000</td>\n",
       "    </tr>\n",
       "    <tr>\n",
       "      <th>max</th>\n",
       "      <td>2024.000000</td>\n",
       "      <td>323000.000000</td>\n",
       "      <td>580.000000</td>\n",
       "      <td>159999.000000</td>\n",
       "      <td>470.800000</td>\n",
       "      <td>6.300000</td>\n",
       "    </tr>\n",
       "  </tbody>\n",
       "</table>\n",
       "</div>"
      ],
      "text/plain": [
       "               year        mileage           tax          price           mpg  \\\n",
       "count  69544.000000   69544.000000  69544.000000   69544.000000  69544.000000   \n",
       "mean    2017.057287   23440.985431    119.994248   17252.313097     54.825492   \n",
       "std        2.138476   21320.457315     64.443977   10121.326910     16.449080   \n",
       "min     1970.000000       1.000000      0.000000     450.000000      0.300000   \n",
       "1%      2010.000000      11.000000      0.000000    3995.000000     29.700000   \n",
       "25%     2016.000000    7761.750000    125.000000   10390.000000     46.300000   \n",
       "50%     2017.000000   17890.000000    145.000000   14990.000000     54.300000   \n",
       "75%     2019.000000   32793.250000    145.000000   21450.000000     62.725000   \n",
       "99%     2020.000000   97000.000000    270.000000   53773.940000     85.600000   \n",
       "max     2024.000000  323000.000000    580.000000  159999.000000    470.800000   \n",
       "\n",
       "        engine_size  \n",
       "count  69544.000000  \n",
       "mean       1.694596  \n",
       "std        0.569404  \n",
       "min        0.000000  \n",
       "1%         1.000000  \n",
       "25%        1.400000  \n",
       "50%        1.600000  \n",
       "75%        2.000000  \n",
       "99%        3.000000  \n",
       "max        6.300000  "
      ]
     },
     "execution_count": 29,
     "metadata": {},
     "output_type": "execute_result"
    }
   ],
   "source": [
    "df.describe(percentiles=[0.01, 0.25, 0.5, 0.75, 0.99])\n",
    "\n",
    "detailed_summary"
   ]
  },
  {
   "cell_type": "markdown",
   "id": "52600bd4-c1ca-4097-8dae-99d118b50a74",
   "metadata": {},
   "source": [
    "# d. Analyze and display some interesting information"
   ]
  },
  {
   "cell_type": "code",
   "execution_count": 38,
   "id": "119474c3-257a-4133-ab06-45354ac6bea4",
   "metadata": {},
   "outputs": [
    {
     "name": "stdout",
     "output_type": "stream",
     "text": [
      "year               2020.0\n",
      "transmission    semi_auto\n",
      "mileage            1350.0\n",
      "fuel_type          petrol\n",
      "tax                 145.0\n",
      "price            159999.0\n",
      "mpg                  21.4\n",
      "engine_size           4.0\n",
      "make                 merc\n",
      "model            _g_class\n",
      "Name: 7138, dtype: object\n"
     ]
    }
   ],
   "source": [
    "# display the record where price is maximum\n",
    "max_price =  df.loc[df['price'].idxmax()]\n",
    "\n",
    "print(max_price)"
   ]
  },
  {
   "cell_type": "code",
   "execution_count": 40,
   "id": "99fd9cfe-788c-44f0-80e0-35346f4e4894",
   "metadata": {},
   "outputs": [
    {
     "name": "stdout",
     "output_type": "stream",
     "text": [
      "year              2008.0\n",
      "transmission      manual\n",
      "mileage         323000.0\n",
      "fuel_type         diesel\n",
      "tax                200.0\n",
      "price             2490.0\n",
      "mpg                 44.1\n",
      "engine_size          2.0\n",
      "make                audi\n",
      "model                _a6\n",
      "Name: 57206, dtype: object\n"
     ]
    }
   ],
   "source": [
    "# display the record where mileage is maximum\n",
    "max_mileage =  df.loc[df['mileage'].idxmax()]\n",
    "\n",
    "print(max_mileage)"
   ]
  },
  {
   "cell_type": "code",
   "execution_count": 42,
   "id": "2e18b309-2d96-47fe-94fe-0601a6bc0d2d",
   "metadata": {},
   "outputs": [
    {
     "name": "stdout",
     "output_type": "stream",
     "text": [
      "year               2015.0\n",
      "transmission    automatic\n",
      "mileage           59000.0\n",
      "fuel_type           other\n",
      "tax                   0.0\n",
      "price             14940.0\n",
      "mpg                 470.8\n",
      "engine_size           0.6\n",
      "make                  bmw\n",
      "model                 _i3\n",
      "Name: 734, dtype: object\n"
     ]
    }
   ],
   "source": [
    "# display the record where mpg is maximum\n",
    "\n",
    "max_mpg = df.loc[df['mpg'].idxmax()]\n",
    "\n",
    "print(max_mpg)"
   ]
  },
  {
   "cell_type": "code",
   "execution_count": null,
   "id": "1f9f8a5f-5222-46a6-aa45-c4876ece16a2",
   "metadata": {},
   "outputs": [],
   "source": []
  }
 ],
 "metadata": {
  "kernelspec": {
   "display_name": "Python 3 (ipykernel)",
   "language": "python",
   "name": "python3"
  },
  "language_info": {
   "codemirror_mode": {
    "name": "ipython",
    "version": 3
   },
   "file_extension": ".py",
   "mimetype": "text/x-python",
   "name": "python",
   "nbconvert_exporter": "python",
   "pygments_lexer": "ipython3",
   "version": "3.12.4"
  }
 },
 "nbformat": 4,
 "nbformat_minor": 5
}
